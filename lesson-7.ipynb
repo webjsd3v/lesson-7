{
 "cells": [
  {
   "cell_type": "code",
   "execution_count": 8,
   "id": "eb1a5ada-f1bb-40a9-a923-7f05aa4acda3",
   "metadata": {},
   "outputs": [
    {
     "name": "stdout",
     "output_type": "stream",
     "text": [
      "Номер А222BС валиден. Регион: 96.\n",
      "Номер не валиден.\n"
     ]
    }
   ],
   "source": [
    "import re\n",
    "\n",
    "def validate_car_id(car_id):\n",
    "\n",
    "    pattern = r'^[АВЕКМНОРСТУХABEKMHOPCTYX]{1}\\d{3}[АВЕКМНОРСТУХABEKMHOPCTYX]{2}\\d{2,3}$'\n",
    "    \n",
    "    # Проверка совпадения с паттерном\n",
    "    match = re.match(pattern, car_id)\n",
    "    \n",
    "    if match:\n",
    "        # Если номер валиден, извлекаем номер и регион\n",
    "        number = car_id[:-2]\n",
    "        region = car_id[-2:]\n",
    "        return f\"Номер {number} валиден. Регион: {region}.\"\n",
    "    else:\n",
    "        return \"Номер не валиден.\"\n",
    "\n",
    "car_id1 = 'А222BС96'\n",
    "result1 = validate_car_id(car_id1)\n",
    "print(result1)\n",
    "\n",
    "car_id2 = 'АБ22ВВ193'\n",
    "result2 = validate_car_id(car_id2)\n",
    "print(result2)\n"
   ]
  },
  {
   "cell_type": "code",
   "execution_count": null,
   "id": "574a0fd4-5a54-4726-92cf-3e0705cc617d",
   "metadata": {},
   "outputs": [],
   "source": []
  }
 ],
 "metadata": {
  "kernelspec": {
   "display_name": "Python 3 (ipykernel)",
   "language": "python",
   "name": "python3"
  },
  "language_info": {
   "codemirror_mode": {
    "name": "ipython",
    "version": 3
   },
   "file_extension": ".py",
   "mimetype": "text/x-python",
   "name": "python",
   "nbconvert_exporter": "python",
   "pygments_lexer": "ipython3",
   "version": "3.11.6"
  }
 },
 "nbformat": 4,
 "nbformat_minor": 5
}
